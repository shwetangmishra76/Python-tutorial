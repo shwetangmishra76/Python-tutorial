{
  "nbformat": 4,
  "nbformat_minor": 0,
  "metadata": {
    "colab": {
      "name": "rock_paper_scissors.ipynb",
      "provenance": [],
      "collapsed_sections": [],
      "authorship_tag": "ABX9TyPULEJMOzFvFh30DQcpEHP+",
      "include_colab_link": true
    },
    "kernelspec": {
      "name": "python3",
      "display_name": "Python 3"
    }
  },
  "cells": [
    {
      "cell_type": "markdown",
      "metadata": {
        "id": "view-in-github",
        "colab_type": "text"
      },
      "source": [
        "<a href=\"https://colab.research.google.com/github/shwetangmishra76/Python-tutorial/blob/main/rock_paper_scissors.ipynb\" target=\"_parent\"><img src=\"https://colab.research.google.com/assets/colab-badge.svg\" alt=\"Open In Colab\"/></a>"
      ]
    },
    {
      "cell_type": "code",
      "metadata": {
        "id": "1mgGjQXrqNve",
        "colab": {
          "base_uri": "https://localhost:8080/"
        },
        "outputId": "b9c4525b-1c5d-441d-8e14-90dca97b4cce"
      },
      "source": [
        "#created by Shwetang Mishra :)\r\n",
        "\r\n",
        "#this is a game , based on random outpput , we are familer with !\r\n",
        "\r\n",
        "from random import randint\r\n",
        "\r\n",
        "#create a list of play options\r\n",
        "t = [\"Rock\", \"Paper\", \"Scissors\"]\r\n",
        "\r\n",
        "#assign a random play to the computer\r\n",
        "computer = t[randint(0,2)]\r\n",
        "\r\n",
        "#set player to False\r\n",
        "player = False\r\n",
        "\r\n",
        "while player == False:\r\n",
        "#set player to True\r\n",
        "    player = input(\"Rock, Paper, Scissors?\")\r\n",
        "    if player == computer:\r\n",
        "        print(\"Tie!\")\r\n",
        "    elif player == \"Rock\":\r\n",
        "        if computer == \"Paper\":\r\n",
        "            print(\"You lose!\", computer, \"covers\", player)\r\n",
        "        else:\r\n",
        "            print(\"You win!\", player, \"smashes\", computer)\r\n",
        "    elif player == \"Paper\":\r\n",
        "        if computer == \"Scissors\":\r\n",
        "            print(\"You lose!\", computer, \"cut\", player)\r\n",
        "        else:\r\n",
        "            print(\"You win!\", player, \"covers\", computer)\r\n",
        "    elif player == \"Scissors\":\r\n",
        "        if computer == \"Rock\":\r\n",
        "            print(\"You lose...\", computer, \"smashes\", player)\r\n",
        "        else:\r\n",
        "            print(\"You win!\", player, \"cut\", computer)\r\n",
        "    else:\r\n",
        "        print(\"That's not a valid play. Check your spelling!\")\r\n",
        "    #player was set to True, but we want it to be False so the loop continues\r\n",
        "    player = False\r\n",
        "    computer = t[randint(0,2)]\r\n",
        "\r\n",
        "\r\n",
        "#try once! :)\r\n",
        "\r\n",
        "\r\n"
      ],
      "execution_count": null,
      "outputs": [
        {
          "output_type": "stream",
          "text": [
            "Rock, Paper, Scissors?Rock\n",
            "Tie!\n"
          ],
          "name": "stdout"
        }
      ]
    }
  ]
}